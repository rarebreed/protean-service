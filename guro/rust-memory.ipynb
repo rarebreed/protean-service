{
 "cells": [
  {
   "attachments": {},
   "cell_type": "markdown",
   "metadata": {},
   "source": [
    "## Memory allocations\n",
    "\n",
    "One of the most important things to understand when designing code that performs well is to understand how memory is allocated and deallocated.  The fallacy that garbage collected languages promise, is that \"you don't have to worry about memory (de)allocation\".  But this really isn't true.  GC'ed languages still pay a price:\n",
    "\n",
    "- Easier memory leaks\n",
    "- Poor performing code to to lots of memory copying\n",
    "- Unsuitable to deterministic runtimes due to garbage collection pauses\n",
    "\n",
    "System's program languages do not necessarily solve these problems with a silver bullet.  But they give you the tools to do so unlike GC'ed languages.\n",
    "\n",
    "To give an example, let's see the performance of passing by reference, vs passing by copy\n"
   ]
  },
  {
   "cell_type": "code",
   "execution_count": null,
   "metadata": {},
   "outputs": [],
   "source": []
  },
  {
   "attachments": {},
   "cell_type": "markdown",
   "metadata": {},
   "source": [
    "## Stack and heap\n",
    "\n",
    "It's important to understand the stack and the heap when working with rust, and the earlier you understand this concept the better.\n",
    "\n",
    "Many modern languages do not make a distinction between the stack and heap, so this may be a new concept.  The stack is a region that the Operating System uses to execute instructions of your program.  When you define a function, room has to be made on the stack for the arguments, and when the function exits, all the previously allocated elements on the stack are popped off and the return value is pushed onto the stack.\n",
    "\n",
    "This is why recursive functions can `stack overflow`, because on each new function call, room for the arguments of the function are pushed onto the stack, and if this happens too much before the recursion stops, the stack space can be fully consumed (because the Operating System has a limit on how big the stack space is, and this is determined by the kernel when it is built usually)\n",
    "\n",
    "So let's see how this works."
   ]
  },
  {
   "cell_type": "code",
   "execution_count": null,
   "metadata": {},
   "outputs": [],
   "source": [
    "use std::mem::{size_of, size_of_val};\n",
    "\n",
    "fn printa<A>(x: &A, val: &str) {\n",
    "    println!(\"Address of {val}: {:p}\", x);\n",
    "}\n",
    "\n",
    "fn stack_print() {\n",
    "    let a = 1;\n",
    "    let b = 2;\n",
    "    let c = \"hi\";\n",
    "    let d = Box::new(10);\n",
    "    \n",
    "    printa(&a, \"a\");\n",
    "    println!(\"Size of a is {}\", size_of_val(&a));\n",
    "    printa(&b, \"b\");\n",
    "    println!(\"Size of b is {}\", size_of_val(&b));\n",
    "    printa(&c, \"c\");\n",
    "    println!(\"Size of c is {}\", size_of_val(&c));\n",
    "    printa(&d, \"d\");\n",
    "    println!(\"Size of d is {}\", size_of_val(&d));\n",
    "}\n",
    "\n",
    "stack_print();"
   ]
  },
  {
   "cell_type": "code",
   "execution_count": null,
   "metadata": {},
   "outputs": [],
   "source": [
    "struct Foo {}\n",
    "\n",
    "let a1 = Foo {};\n",
    "let a2 = Foo {};\n",
    "\n",
    "printa(&a1, \"a1\");\n",
    "printa(&a2, \"a2\");"
   ]
  },
  {
   "attachments": {},
   "cell_type": "markdown",
   "metadata": {},
   "source": [
    "Notice that both `a1` and `a2` point to the same address.  Also note we had to take a reference to these two values to be able to use the `:p` formatting in `println!`.\n",
    "\n",
    "But why do they both point to the same address?  Didn't we create 2 new variables of type `Foo`?  Shouldn't we see two different addresses?\n",
    "\n",
    "The answer is that unlike most garbage collected languages that create instances of data on the heap, `Foo {}` is just a value, no different 10, but, Foo also has no data associated with it.  What if we made a struct with data?"
   ]
  },
  {
   "cell_type": "code",
   "execution_count": null,
   "metadata": {},
   "outputs": [],
   "source": [
    "#[derive(Debug)]\n",
    "struct Bar { x: u32 }\n",
    "\n",
    "let x = Bar { x : 10 };\n",
    "let y = Bar { x: 20 };\n",
    "printa(&x, \"x\");\n",
    "printa(&y, \"y\");"
   ]
  },
  {
   "attachments": {},
   "cell_type": "markdown",
   "metadata": {},
   "source": [
    "Notice that now, we have different addresses for each.  This is because rust has to allocate memory for this data type unlike with Foo.\n",
    "\n",
    "So far all these variables have lived on the stack.  What if we have a Box or Rc?  An important distinction must be made between the adress of a variable on the stack, with what it points to.  We will illustrate this with the following:"
   ]
  },
  {
   "cell_type": "code",
   "execution_count": null,
   "metadata": {},
   "outputs": [],
   "source": [
    "let z = Box::new(y);\n",
    "printa(&z, \"z\");\n",
    "let raw: *mut Bar = Box::into_raw(z);\n",
    "println!(\"Address in memory of z is {raw:p}\");"
   ]
  },
  {
   "attachments": {},
   "cell_type": "markdown",
   "metadata": {},
   "source": [
    "Why did `z` print one address, but `raw` pointed to a different value?\n",
    "\n",
    "In rust, we must differentiate between:\n",
    "\n",
    "1. the name of the symbol, eg `z`\n",
    "2. the value of the symbol\n",
    "3. where the data that symbol refers to lives\n",
    "\n",
    "Unfortunately, all 3 of these get easily confused, especially when we start talking about references or pointers (and a reference is basically a safe pointer).  When data just lives on the stack, 1 and 2 are typically a simple mapping.  For example with \n",
    "\n",
    "```\n",
    "let x = 10;\n",
    "```\n",
    "\n",
    "then we can think of x **as** 10.  But technically, `x` is the name of the symbol, which points to some memory on the stack, and the value of 10.  When we run the `printa` function, we are showing the address on the stack."
   ]
  },
  {
   "cell_type": "code",
   "execution_count": null,
   "metadata": {},
   "outputs": [],
   "source": [
    "let x = 10;\n",
    "println!(\"The address on the stack of x is {:p} and its value is {}\", &x, *&x);"
   ]
  },
  {
   "attachments": {},
   "cell_type": "markdown",
   "metadata": {},
   "source": [
    "This explains why `z` (the symbol name that refers to some address on the stack) has a different address than the actual value of `z`.  This is because point of #3.  Since `z` value is actually a smart pointer, where the data that `z` refers to is different."
   ]
  },
  {
   "cell_type": "code",
   "execution_count": null,
   "metadata": {},
   "outputs": [],
   "source": [
    "let q = Bar { x: 30 };\n",
    "let z = Box::new(q);\n",
    "println!(\"The address on the stack of z is {:p} and its value is\\n{:#?}\", &z, *&z);\n",
    "let raw = Box::into_raw(z);\n",
    "unsafe {\n",
    "    println!(\"The address of what z points to is {:p} and its value is\\n{:#?}\", raw, *raw);\n",
    "}"
   ]
  },
  {
   "attachments": {},
   "cell_type": "markdown",
   "metadata": {},
   "source": [
    "Now that we have a basic understanding of the difference between the stack, let's look at how rust deals with &str and String.\n",
    "\n",
    "So first off, why two different kinds of strings?  In rust, performance is important for systems programming so having control over stack or heap allocated data is important.  But more importantly, some data types we can't know at compile time, because they may grow in size.  For example, a Vec in rust is a type that can hold values of another but grow dynamically.  A String in rust, is a dynamically resizeable type that happens to hold u8 values, that happen to be UTF8 encoded."
   ]
  },
  {
   "cell_type": "code",
   "execution_count": null,
   "metadata": {},
   "outputs": [],
   "source": [
    "// name has type String, and name itself lives on the stack\n",
    "// however, the data of name lives on the heap.  Notice how this is similiar to Box\n",
    "let name = String::from(\"Sean\");\n",
    "\n",
    "printa(&name, \"name\");\n",
    "let name_box = name.into_boxed_str();\n",
    "let data_addr_of_name = Box::into_raw(name_box);\n",
    "unsafe {\n",
    "    println!(\"The address of what name points to is {:p}\", data_addr_of_name);\n",
    "}\n",
    "\n",
    "let sean = \"Sean\";\n",
    "printa(&sean, \"sean\");\n",
    "let str_size = std::mem::size_of_val(sean);\n",
    "println!(\"Size of sean is {str_size}\");\n",
    "\n",
    "let full = \"sean toner\";\n",
    "let full_size = std::mem::size_of_val(full);\n",
    "println!(\"Size of full is {full_size}\");\n",
    "let full_len = full.len();\n",
    "println!(\"Size of full is {full_len}\");\n",
    "\n",
    "let name = String::from(\"Sean Toner\");\n",
    "println(\"size of name is {}\", )\n"
   ]
  }
 ],
 "metadata": {
  "kernelspec": {
   "display_name": "Rust",
   "language": "rust",
   "name": "rust"
  },
  "language_info": {
   "codemirror_mode": "rust",
   "file_extension": ".rs",
   "mimetype": "text/rust",
   "name": "rust",
   "pygment_lexer": "rust",
   "version": ""
  },
  "orig_nbformat": 4
 },
 "nbformat": 4,
 "nbformat_minor": 2
}
