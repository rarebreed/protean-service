{
 "cells": [
  {
   "attachments": {},
   "cell_type": "markdown",
   "metadata": {},
   "source": [
    "# Thinking in rust\n",
    "\n",
    "Rust is a fairly unique language that has a reputation for being hard to learn.  This guide will endeavor to help beginning \n",
    "programmers to think the way that the rust compiler would like you to think.\n",
    "\n",
    "Since rust will not be the first language for many people, it's easy to think you can just port code over from a language\n",
    "that you already know to rust.  This is a recipe for fighting with the rust compiler.  One of the big challenges with rust\n",
    "is understanding lifetimes and ownership.  Lifetimes are a unique concept to rust, and lifetimes and ownership go hand in \n",
    "hand with each other.  So it is vital to understand lifetimes, and how to think like the compiler.\n",
    "\n",
    "Other topics to consider are rust traits, error handling, testing, code organization and algebraic data types, all of\n",
    "which are either different or non-existent in other languages.  All of these topics will be discussed.\n",
    "\n",
    "## Who this guide is for\n",
    "\n",
    "This book assumes that you have at least a basic understanding of rust.  You may be somewhat familiar with lifetime and\n",
    "ownership, but still find yourself banging your head against rust compiler errors.  But you should already have cargo installed\n",
    "and therefore rust and some other tools (like rustfmt and clippy).\n",
    "\n",
    "While the basics will be covered, the reader should have at least programmed some basic rust code.\n",
    "\n"
   ]
  }
 ],
 "metadata": {
  "language_info": {
   "name": "python"
  },
  "orig_nbformat": 4
 },
 "nbformat": 4,
 "nbformat_minor": 2
}
