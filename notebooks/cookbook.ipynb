{
 "cells": [
  {
   "attachments": {},
   "cell_type": "markdown",
   "metadata": {},
   "source": [
    "# Advanced Rust Cookbook\n",
    "\n",
    "I have written down some common scenarios that I have run into while writing rust code.  Unlike some other cookbook\n",
    "style guids, I want to explain why and when you should use certain recipes.  I'll also try to point out alternatives and\n",
    "potential anti-patterns.\n",
    "\n",
    "I hope others will find this useful.  This book is aimed at the beginner to intermediate Rustacean who understand the\n",
    "basics of rust, including lifetimes, the ownership model, and at least the basics of Generics.  But if you've ever\n",
    "wondered how to do the following, I hope this will save you time.\n",
    "\n",
    "- How do I get rid of all these `match` expressions or statements?\n",
    "- Error handling\n",
    "    - How do I use `?` when my function can return multiple Error types?\n",
    "    - How do I write my own Error trait?\n",
    "- When should I use traits?\n",
    "    - I don't get associated items vs Generics\n",
    "    - What are GATs and when do I need them?\n",
    "    - What's the difference between `dyn Trait` and `impl Trait`?\n",
    "- How do I create a state machine?\n",
    "    - What's a \"type state\"?\n",
    "- How do I save things?\n",
    "    - De(serialization), or how do I use `serde`?\n",
    "        - How do I save a rust data type to a file?\n",
    "        - How do I use enums with `serde`\n",
    "        - How do I tell `serde` to ignore a field?\n",
    "        - How do I customize output of a field?\n",
    "    - How do I save a file...\n",
    "        - to a local file?\n",
    "        - to S3?\n",
    "        - and it's a binary file?\n",
    "    - How do I read in a file...\n",
    "        - to a String or &str?\n",
    "        - as a binary encoded file?\n",
    "- How do I do local file operations like...\n",
    "    - create a directory (including parents)?\n",
    "    - list all the files and folders in a path?\n",
    "    - delete just the files in a directory, including recursively?\n",
    "    - delete everything recursively?\n",
    "- I don't understand rust's crate/module system, how do I....\n",
    "    - organize my code?\n",
    "    - use a module defined in my own crate?\n",
    "    - create subprojects?\n",
    "        - how do I define a common set of dependencies for the subprojects?\n",
    "- I don't understand Box...\n",
    "    - when do I need it?\n",
    "- I don't understand Rc...\n",
    "    - when do I need it?\n",
    "- I don't understand \"interior mutability\"...\n",
    "    - when do I need it?\n",
    "- How do I make a data type or function thread safe?\n",
    "- Help! In my loop or recursive function, my data is getting moved/consumed\n"
   ]
  },
  {
   "attachments": {},
   "cell_type": "markdown",
   "metadata": {},
   "source": [
    "## Getting rid of `match`\n",
    "\n",
    "Beginning rustaceans will often do a lot of nested match expressions or statements.  This is where it's very useful\n",
    "to learn all the methods of the `Result` and `Option` class as this will help with 90% of the times where you need to\n",
    "do lots of `match` checks.\n",
    "\n",
    "Take a look at the following example\n"
   ]
  }
 ],
 "metadata": {
  "kernelspec": {
   "display_name": "Python 3",
   "language": "python",
   "name": "python3"
  },
  "language_info": {
   "name": "python",
   "version": "3.8.10 (default, Nov 14 2022, 12:59:47) \n[GCC 9.4.0]"
  },
  "orig_nbformat": 4,
  "vscode": {
   "interpreter": {
    "hash": "31f2aee4e71d21fbe5cf8b01ff0e069b9275f58929596ceb00d14d90e3e16cd6"
   }
  }
 },
 "nbformat": 4,
 "nbformat_minor": 2
}
