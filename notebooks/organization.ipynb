{
 "cells": [
  {
   "attachments": {},
   "cell_type": "markdown",
   "metadata": {},
   "source": [
    "# Organizing your code\n",
    "\n",
    "One of the subtle arts to any software project is organizing your code.  This guide will cover some advice on\n",
    "how to best organize code so that it is logical, intuitive for new users, and fun to use\n",
    "\n",
    "## Libraries\n",
    "\n"
   ]
  },
  {
   "cell_type": "markdown",
   "metadata": {},
   "source": []
  }
 ],
 "metadata": {
  "kernelspec": {
   "display_name": "Python 3",
   "language": "python",
   "name": "python3"
  },
  "language_info": {
   "name": "python",
   "version": "3.9.7 (default, Oct  8 2021, 23:52:20) \n[GCC 8.3.0]"
  },
  "orig_nbformat": 4,
  "vscode": {
   "interpreter": {
    "hash": "49b62dd4232904afd7cee0c1d6cb226537d1d8e5b7a91b55cc5103a6912dcefd"
   }
  }
 },
 "nbformat": 4,
 "nbformat_minor": 2
}
