{
 "cells": [
  {
   "cell_type": "markdown",
   "metadata": {},
   "source": [
    "# Early adopter for rust\n",
    "\n",
    "If you are an early adopter of rust at work, you may run into some snags working with CI/CD, repos for dependencies, and other non-coding issues.  This guide will walk through some issues I ran into and hopefully help others experiment with rust at your workplace\n",
    "\n",
    "## Problems you may encounter\n",
    "\n",
    "Let's assume you've been given the go ahead to at least experiment with rust at your work.  Let's also assume that you at least know the basics of rust and realize all the benefits rust can bring to your workplace.  There may be some infrastructure issues you will encounter while adopting rust.\n",
    "\n",
    "These are things that engineers often take for granted.  They can include things like:\n",
    "\n",
    "- Coding guidelines (ie, formatting)\n",
    "- Linting and code review processes\n",
    "- Dependency security analysis tools\n",
    "- Dependency management\n",
    "- Cross compilation\n",
    "- Developer tooling (IDE's, debuggers, shells, etc)\n",
    "- APM (Application Performance Monitoring) for telemetry, tracing and logging\n",
    "\n",
    "This guide will try to cover some of the things i have gone through, and hopefully others can contribute to this guide.\n",
    "\n",
    "But first, let's set up your rust environment if you have not already"
   ]
  },
  {
   "cell_type": "code",
   "execution_count": null,
   "metadata": {},
   "outputs": [],
   "source": [
    "// Check that we have rust installed\n",
    "\n",
    "// Check that rustup is up-to-date\n"
   ]
  },
  {
   "cell_type": "markdown",
   "metadata": {},
   "source": [
    "## Developer Tooling\n",
    "\n",
    "Many teams at various organizations have some common tooling that they will want you to set up.  While IDE's are often at a developer's discretion, it's nice to have a common set of tools that developers can all use, not only to standardize things, but to help with code collaboration sharing screens, etc.\n",
    "\n",
    "Furthermore, if your team is new to rust, then all the more reason to get everyone on the same page.  I will therefore provide a biased list of tooling that I personally like.  I will provide some possible replacements for you to choose as well.\n",
    "\n",
    "- Cargo tooling\n",
    "    - cargo-edit: to more easily add/edit Cargo.toml dependencies\n",
    "    - cargo-wasi: for web assembly\n",
    "    - cargo-audit: for security advisories in crates.io\n",
    "- jupyter: for notebooks\n",
    "- Command line tools:\n",
    "    - exa: a better `ls`\n",
    "    - nu: a cross platform shell built in rust with more modern programming\n",
    "    - starship: a nice shell prompt and status\n",
    "    - git-delta: makes git diff as good on CLI as the IDE\n",
    "    - tokei: to count LOC\n",
    "    - evcxr_jupyter: rust kernel for jupyter\n",
    "    - procs: a better ``ps\n",
    "    - ripgrep: the fastest ``grep tool out there\n",
    "    - fd-find: nicer than `find`\n",
    "    - du-dust: better than `du`\n",
    "    - ouch: tool to (de)compress archived files in many formats\n",
    "- Shell:\n",
    "    - zellij: better `tmux`\n",
    "    - \n",
    "- git hook scripts\n",
    "    - pre-commit: to format, lint and run unit tests before you commit\n",
    "    - pre-push: audit your code before you push"
   ]
  }
 ],
 "metadata": {
  "kernelspec": {
   "display_name": "Rust",
   "language": "rust",
   "name": "rust"
  },
  "language_info": {
   "codemirror_mode": "rust",
   "file_extension": ".rs",
   "mimetype": "text/rust",
   "name": "rust",
   "pygment_lexer": "rust",
   "version": "3.9.7"
  },
  "orig_nbformat": 4,
  "vscode": {
   "interpreter": {
    "hash": "547f832b66482c18a991a24fdb333e9655121fd5be3caac21676abbecffc7f10"
   }
  }
 },
 "nbformat": 4,
 "nbformat_minor": 2
}
