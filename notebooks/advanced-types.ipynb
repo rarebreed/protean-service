{
 "cells": [
  {
   "attachments": {},
   "cell_type": "markdown",
   "metadata": {},
   "source": [
    "# Advanced Types in Rust\n",
    "\n",
    "Rust has a very powerful type system, but unfortunately, there's not a lot of information on how to use some of the\n",
    "powerful features, and perhaps more importantly, where you could make use of them and **why**.  This guide and cookbook\n",
    "will hopefully be of use, because I wish something like it existed while I was learning.\n",
    "\n",
    "This book assumes the reader already knows basic rust, including understanding lifetimes and basic generics.\n",
    "\n",
    "Some of the topics covered here will be:\n",
    "\n",
    "- Basic traits\n",
    "- Advanced traits\n",
    "    - Bounds on generics\n",
    "    - Extended traits\n",
    "    - GATs\n",
    "- Existing traits\n",
    "    - Send and Sync\n",
    "    - ?Sized and !Sized\n",
    "- Algebraic Data Types\n",
    "    - When to use enums\n",
    "- Design Patterns\n",
    "    - Typeclasses\n",
    "    - Type state\n",
    "- Advanced Data Types\n",
    "    - PhantomType\n",
    "    - Existential types\n",
    "    - Qualified types\n",
    "- API design (and evolution thereof)\n",
    "\n",
    "Each section will have subsections:\n",
    "\n",
    "- What is it?\n",
    "- Why does it exist?\n",
    "- Alternatives\n",
    "- Where are good places to use it?\n",
    "- When should it be used?\n",
    "- When should it not be used? (Anti pattern)"
   ]
  },
  {
   "attachments": {},
   "cell_type": "markdown",
   "metadata": {},
   "source": [
    "## Basic traits\n",
    "\n",
    "Let's start with an overview of basic traits\n",
    "\n",
    "### What is it?\n",
    "\n",
    "A trait is a contract.  It specifies that some data type (including possibly another trait) must be able to perform\n",
    "some kind of functionality.  Note that a trait only specifies functionality for a type, not that it must have some\n",
    "subset of data.  However, associated types is a way to specify that the functionality will work with some data.\n",
    "\n",
    "Let's look at an example.\n"
   ]
  },
  {
   "cell_type": "code",
   "execution_count": null,
   "metadata": {},
   "outputs": [],
   "source": []
  }
 ],
 "metadata": {
  "kernelspec": {
   "display_name": "Rust",
   "language": "rust",
   "name": "rust"
  },
  "language_info": {
   "name": "rust"
  },
  "orig_nbformat": 4
 },
 "nbformat": 4,
 "nbformat_minor": 2
}
